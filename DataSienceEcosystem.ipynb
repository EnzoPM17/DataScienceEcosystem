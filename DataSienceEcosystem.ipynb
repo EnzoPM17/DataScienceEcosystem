{
 "cells": [
  {
   "cell_type": "markdown",
   "id": "102b0356-36be-4bab-8c6a-be2b28e805f9",
   "metadata": {},
   "source": [
    "# Data Science Tools and Ecosystem"
   ]
  },
  {
   "cell_type": "markdown",
   "id": "a4c29427-3745-4dd8-9fc4-d866988fd186",
   "metadata": {},
   "source": [
    "In this notebook, Data Science Tools and Ecosystem are summarized."
   ]
  },
  {
   "cell_type": "markdown",
   "id": "830eb2d8-5873-42f1-9137-bccb06790288",
   "metadata": {},
   "source": [
    "**Objectives**\n",
    "\n",
    "  * List popular data science languages\n",
    "  \n",
    "  * List commonly used data science libraries\n",
    "\n",
    "  * Create a table with Open source Data Science Tools\n",
    "  \n",
    "  * Perform arithmetic operations"
   ]
  },
  {
   "cell_type": "markdown",
   "id": "585ca776-0d34-4aac-88b8-cbb18cf60211",
   "metadata": {},
   "source": [
    "Some of the popular languages that Data Scientists use are:\n",
    "1. Python\n",
    "2. R\n",
    "3. SQL\n",
    "4. Julia\n",
    "5. Scala\n",
    "6. JavaScript"
   ]
  },
  {
   "cell_type": "markdown",
   "id": "c2784152-4329-4602-ad8f-4cc089957bef",
   "metadata": {},
   "source": [
    "Some of the commonly used libraries used by Data Scientists include:\n",
    "1. Pandas\n",
    "2. Numpy\n",
    "3. Scipy\n",
    "4. Matplotlib\n",
    "5. Pytorch\n",
    "6. TensorFlow"
   ]
  },
  {
   "cell_type": "markdown",
   "id": "96bb268f-9064-404f-ad0f-6b26d9beb589",
   "metadata": {},
   "source": [
    "|Data Science Tools|\n",
    "|------|\n",
    "|Github|\n",
    "|Jupyter Notebooks|\n",
    "|R StudioIDE|"
   ]
  },
  {
   "cell_type": "markdown",
   "id": "5487b828-ece0-4a5c-b401-21a07a54672d",
   "metadata": {},
   "source": [
    "### Below are a few examples of evaluating arithmetic expressions in Python"
   ]
  },
  {
   "cell_type": "code",
   "execution_count": 2,
   "id": "db115460-fa08-463d-a18d-c8f587995b38",
   "metadata": {},
   "outputs": [
    {
     "data": {
      "text/plain": [
       "17"
      ]
     },
     "execution_count": 2,
     "metadata": {},
     "output_type": "execute_result"
    }
   ],
   "source": [
    "# This a simple arithmetic expression to mutiply then add integers\n",
    "(3*4)+5"
   ]
  },
  {
   "cell_type": "code",
   "execution_count": 4,
   "id": "9146ce47-1f1c-44ff-85e4-449a3114b9af",
   "metadata": {},
   "outputs": [
    {
     "data": {
      "text/plain": [
       "3.33"
      ]
     },
     "execution_count": 4,
     "metadata": {},
     "output_type": "execute_result"
    }
   ],
   "source": [
    "# This will convert 200 minutes to hours by diving by 60\n",
    "min = 200\n",
    "round(min/60,2)"
   ]
  },
  {
   "cell_type": "markdown",
   "id": "3d52b160-0b89-441d-985f-76441426d56c",
   "metadata": {},
   "source": [
    "## Author\n",
    "Enzo Palacio"
   ]
  },
  {
   "cell_type": "code",
   "execution_count": null,
   "id": "5c123406-6f63-41fb-88c8-e89326a37a9c",
   "metadata": {},
   "outputs": [],
   "source": []
  }
 ],
 "metadata": {
  "kernelspec": {
   "display_name": "Python",
   "language": "python",
   "name": "conda-env-python-py"
  },
  "language_info": {
   "codemirror_mode": {
    "name": "ipython",
    "version": 3
   },
   "file_extension": ".py",
   "mimetype": "text/x-python",
   "name": "python",
   "nbconvert_exporter": "python",
   "pygments_lexer": "ipython3",
   "version": "3.7.12"
  }
 },
 "nbformat": 4,
 "nbformat_minor": 5
}
